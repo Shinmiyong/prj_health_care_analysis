{
 "cells": [
  {
   "cell_type": "code",
   "execution_count": 1,
   "metadata": {},
   "outputs": [],
   "source": [
    "import pandas as pd"
   ]
  },
  {
   "cell_type": "code",
   "execution_count": 2,
   "metadata": {},
   "outputs": [],
   "source": [
    "health = pd.read_excel('../datasets/검진데이터_10개이상_보유.xlsx', index_col= 0)"
   ]
  },
  {
   "cell_type": "code",
   "execution_count": 4,
   "metadata": {},
   "outputs": [
    {
     "data": {
      "text/plain": [
       "Index(['성별', '생년', '검진년도', '키', '체중', '허리둘레', 'BMI', '시력(좌)', '시력(우)', '청력(좌)',\n",
       "       '청력(우)', '수축기혈압', '이완기혈압', '요단백', '헤모글로빈', '공복혈당', '총콜레스테롤', 'HDL',\n",
       "       '중성지방', 'LDL', '혈청크레아티닌', '신사구체여과율', 'AST', 'ALT', 'GTP', '폐결핵흉부질환',\n",
       "       '골다공증', '종합결과'],\n",
       "      dtype='object')"
      ]
     },
     "execution_count": 4,
     "metadata": {},
     "output_type": "execute_result"
    }
   ],
   "source": [
    "health.columns"
   ]
  },
  {
   "cell_type": "code",
   "execution_count": 5,
   "metadata": {},
   "outputs": [],
   "source": [
    "health2 = pd.read_excel('../datasets/health_data_first.xlsx', index_col= 0)"
   ]
  },
  {
   "cell_type": "code",
   "execution_count": 6,
   "metadata": {},
   "outputs": [
    {
     "data": {
      "text/plain": [
       "Index(['성별', '생년', '검진년도', '검진 시 연령', '키', '체중', 'BMI', '시력(좌)', '시력(우)',\n",
       "       '청력(좌)', '청력(우)', '수축기혈압', '이완기혈압', '요단백', '헤모글로빈', '공복혈당', '혈청크레아티닌',\n",
       "       '신사구체여과율', 'AST', 'ALT', 'GTP', '폐결핵흉부질환', '종합결과'],\n",
       "      dtype='object')"
      ]
     },
     "execution_count": 6,
     "metadata": {},
     "output_type": "execute_result"
    }
   ],
   "source": [
    "health2.columns"
   ]
  },
  {
   "cell_type": "code",
   "execution_count": null,
   "metadata": {},
   "outputs": [],
   "source": []
  },
  {
   "cell_type": "code",
   "execution_count": 7,
   "metadata": {},
   "outputs": [
    {
     "data": {
      "text/plain": [
       "138"
      ]
     },
     "execution_count": 7,
     "metadata": {},
     "output_type": "execute_result"
    }
   ],
   "source": [
    "health['수축기혈압'][0]"
   ]
  },
  {
   "cell_type": "code",
   "execution_count": 9,
   "metadata": {},
   "outputs": [
    {
     "data": {
      "text/plain": [
       "성별             M\n",
       "생년          1970\n",
       "검진년도        2008\n",
       "키            180\n",
       "체중            75\n",
       "허리둘레          83\n",
       "BMI        23.15\n",
       "시력(좌)          1\n",
       "시력(우)        1.2\n",
       "청력(좌)         정상\n",
       "청력(우)         정상\n",
       "수축기혈압        138\n",
       "이완기혈압         88\n",
       "요단백           음성\n",
       "헤모글로빈       13.2\n",
       "공복혈당          97\n",
       "총콜레스테롤       141\n",
       "HDL          NaN\n",
       "중성지방         NaN\n",
       "LDL          NaN\n",
       "혈청크레아티닌      NaN\n",
       "신사구체여과율      NaN\n",
       "AST           22\n",
       "ALT          NaN\n",
       "GTP           30\n",
       "폐결핵흉부질환       정상\n",
       "골다공증         NaN\n",
       "종합결과         NaN\n",
       "Name: 13342CF4-D753-450C-939B-97DE0503F3DA, dtype: object"
      ]
     },
     "execution_count": 9,
     "metadata": {},
     "output_type": "execute_result"
    }
   ],
   "source": [
    "health.iloc[0]"
   ]
  },
  {
   "cell_type": "code",
   "execution_count": null,
   "metadata": {},
   "outputs": [],
   "source": [
    "a_list = [] # 고혈압 140 이상\n",
    "b_list = [] # 주의 120이상 140미만\n",
    "c_list = [] # 정상 90이상 120미만\n",
    "d_list = [] # 저혈압 90미만\n",
    "for i in range(0, len(health)):\n",
    "    if health['수축기혈압'][i] >= 140:\n",
    "        data = health.iloc[i]\n",
    "        a_list.append(data)\n",
    "    elif health['수축기혈압']"
   ]
  }
 ],
 "metadata": {
  "kernelspec": {
   "display_name": "Python 3",
   "language": "python",
   "name": "python3"
  },
  "language_info": {
   "codemirror_mode": {
    "name": "ipython",
    "version": 3
   },
   "file_extension": ".py",
   "mimetype": "text/x-python",
   "name": "python",
   "nbconvert_exporter": "python",
   "pygments_lexer": "ipython3",
   "version": "3.7.7"
  }
 },
 "nbformat": 4,
 "nbformat_minor": 4
}
