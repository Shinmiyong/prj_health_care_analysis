{
 "cells": [
  {
   "cell_type": "code",
   "execution_count": 1,
   "metadata": {},
   "outputs": [],
   "source": [
    "import pandas as pd"
   ]
  },
  {
   "cell_type": "code",
   "execution_count": 2,
   "metadata": {},
   "outputs": [],
   "source": [
    "df = pd.read_excel('../datasets/health_data_first.xlsx', index_col=0)"
   ]
  },
  {
   "cell_type": "code",
   "execution_count": 3,
   "metadata": {},
   "outputs": [],
   "source": [
    "df.reset_index(inplace= True)"
   ]
  },
  {
   "cell_type": "code",
   "execution_count": 4,
   "metadata": {},
   "outputs": [
    {
     "name": "stdout",
     "output_type": "stream",
     "text": [
      "<class 'pandas.core.frame.DataFrame'>\n",
      "RangeIndex: 1068 entries, 0 to 1067\n",
      "Data columns (total 24 columns):\n",
      " #   Column   Non-Null Count  Dtype  \n",
      "---  ------   --------------  -----  \n",
      " 0   고유값      1068 non-null   object \n",
      " 1   성별       1068 non-null   object \n",
      " 2   생년       1068 non-null   int64  \n",
      " 3   검진년도     1068 non-null   int64  \n",
      " 4   검진 시 연령  1068 non-null   int64  \n",
      " 5   키        1068 non-null   float64\n",
      " 6   체중       1068 non-null   float64\n",
      " 7   BMI      1068 non-null   float64\n",
      " 8   시력(좌)    1068 non-null   float64\n",
      " 9   시력(우)    1068 non-null   float64\n",
      " 10  청력(좌)    1068 non-null   object \n",
      " 11  청력(우)    1068 non-null   object \n",
      " 12  수축기혈압    1068 non-null   int64  \n",
      " 13  이완기혈압    1068 non-null   int64  \n",
      " 14  요단백      1066 non-null   object \n",
      " 15  헤모글로빈    1068 non-null   float64\n",
      " 16  공복혈당     1068 non-null   int64  \n",
      " 17  혈청크레아티닌  1065 non-null   float64\n",
      " 18  신사구체여과율  882 non-null    float64\n",
      " 19  AST      1068 non-null   int64  \n",
      " 20  ALT      1058 non-null   float64\n",
      " 21  GTP      1068 non-null   int64  \n",
      " 22  폐결핵흉부질환  1068 non-null   object \n",
      " 23  종합결과     1063 non-null   object \n",
      "dtypes: float64(9), int64(8), object(7)\n",
      "memory usage: 200.4+ KB\n"
     ]
    }
   ],
   "source": [
    "df.info()"
   ]
  },
  {
   "cell_type": "markdown",
   "metadata": {},
   "source": [
    "# '남성' 분류"
   ]
  },
  {
   "cell_type": "code",
   "execution_count": 49,
   "metadata": {},
   "outputs": [],
   "source": [
    "a_list = []\n",
    "for i in range(0, len(df)):\n",
    "    if df['성별'][i] == 'M':\n",
    "        data = df.iloc[i]\n",
    "        a_list.append(data)\n",
    "df2 = pd.DataFrame(a_list)\n",
    "df2.reset_index(drop= True, inplace= True)"
   ]
  },
  {
   "cell_type": "code",
   "execution_count": 50,
   "metadata": {},
   "outputs": [
    {
     "data": {
      "text/plain": [
       "753"
      ]
     },
     "execution_count": 50,
     "metadata": {},
     "output_type": "execute_result"
    }
   ],
   "source": [
    "len(df2)"
   ]
  },
  {
   "cell_type": "code",
   "execution_count": 51,
   "metadata": {},
   "outputs": [],
   "source": [
    "df2.to_excel('./datasets/Male.xlsx')"
   ]
  },
  {
   "cell_type": "markdown",
   "metadata": {},
   "source": [
    "# '여성' 분류"
   ]
  },
  {
   "cell_type": "code",
   "execution_count": 52,
   "metadata": {},
   "outputs": [],
   "source": [
    "a_list = []\n",
    "for i in range(0, len(df)):\n",
    "    if df['성별'][i] == 'F':\n",
    "        data = df.iloc[i]\n",
    "        a_list.append(data)\n",
    "df3 = pd.DataFrame(a_list)\n",
    "df3.reset_index(drop= True, inplace= True)"
   ]
  },
  {
   "cell_type": "code",
   "execution_count": 53,
   "metadata": {},
   "outputs": [
    {
     "data": {
      "text/plain": [
       "315"
      ]
     },
     "execution_count": 53,
     "metadata": {},
     "output_type": "execute_result"
    }
   ],
   "source": [
    "len(df3)"
   ]
  },
  {
   "cell_type": "code",
   "execution_count": 54,
   "metadata": {},
   "outputs": [],
   "source": [
    "df3.to_excel('./datasets/Female.xlsx')"
   ]
  }
 ],
 "metadata": {
  "kernelspec": {
   "display_name": "Python 3",
   "language": "python",
   "name": "python3"
  },
  "language_info": {
   "codemirror_mode": {
    "name": "ipython",
    "version": 3
   },
   "file_extension": ".py",
   "mimetype": "text/x-python",
   "name": "python",
   "nbconvert_exporter": "python",
   "pygments_lexer": "ipython3",
   "version": "3.7.7"
  }
 },
 "nbformat": 4,
 "nbformat_minor": 4
}
